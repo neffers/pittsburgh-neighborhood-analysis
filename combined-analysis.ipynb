{
 "cells": [
  {
   "cell_type": "markdown",
   "id": "35ca69cc-10b5-4d30-bba7-d2def2975c5f",
   "metadata": {},
   "source": [
    "# One Score to Rule Them All\n",
    "The time finally comes to assess which neighborhood might be worthy of the title of best! We decided to give each neighborhood a score out of 100 in order to simplify the process.\n",
    "\n",
    "Each member of the team decided on an equation to give the neighborhoods a score, based on their individual metric."
   ]
  },
  {
   "cell_type": "code",
   "execution_count": 13,
   "id": "ff51a037-e618-478e-bb6b-0fd1de758730",
   "metadata": {},
   "outputs": [],
   "source": [
    "import pandas as pd\n",
    "import geopandas as gp\n",
    "import numpy as np\n",
    "%matplotlib inline\n",
    "import matplotlib.pyplot as plt"
   ]
  },
  {
   "cell_type": "code",
   "execution_count": 14,
   "id": "eac51dc6-1524-4723-9c03-f414f00cd339",
   "metadata": {},
   "outputs": [],
   "source": [
    "#EBLL score\n",
    "nb = gp.read_file(\"neighborhoods/Neighborhoods_.shp\")\n",
    "ell = pd.read_csv(\"elevated-blood-lead-levels.csv\")\n",
    "nb.insert(0,\"tract\",nb['tractce10'].astype(\"Int64\", errors='ignore').fillna(0))\n",
    "ell.insert(0,\"tract\",(ell[\"CensusTract\"]-42003000000))\n",
    "ellnb = nb.merge(ell, how=\"left\", on=\"tract\")\n",
    "scored = ellnb[['hood','percentEBLL15_20']].dropna().sort_values('percentEBLL15_20')\n",
    "scored.insert(2,'EBLLscore',100-ezview['percentEBLL15_20']*10)\n",
    "EBLLscored = scored[['hood','EBLLscore']]"
   ]
  },
  {
   "cell_type": "code",
   "execution_count": 15,
   "id": "1fbf913a-754e-4788-9d0b-03356e792d9b",
   "metadata": {},
   "outputs": [],
   "source": [
    "#Education score\n",
    "school_data = pd.read_csv('school-enrollment-by-detailed-level-of-school-for-the-population-3-years-and-over.csv')#open the file to read\n",
    "percent_list = []\n",
    "neigh_list = []\n",
    "score_list = []\n",
    "\n",
    "for index, row in school_data.iterrows():# go through each row \n",
    "    percent_list.append(100 * (row[4]/row[2]))     # puts percent into percent list  \n",
    "    neigh_list.append(row[0])     # put neighborhood in\n",
    "    \n",
    "d = {'Neighborhood': neigh_list, 'Education Score of Neighborhood': percent_list}#create new data set with neighborhoods and percentages\n",
    "percent_list = pd.DataFrame(data=d)# creates a new df so we can get the right scale for the points\n",
    "\n",
    "for index, row in percent_list.iterrows():# go through each row \n",
    "    score_list.append(100 * (row[1]/percent_list[\"Education Score of Neighborhood\"].max()))# append new score scale to score_list \n",
    "\n",
    "d = {'Neighborhood': neigh_list, 'Education Score of Neighborhood': score_list}#create new data set with neighborhoods and percentages\n",
    "eduscored = pd.DataFrame(data=d)"
   ]
  },
  {
   "cell_type": "code",
   "execution_count": 16,
   "id": "e4620657-b086-442f-8a72-f5594fff98a8",
   "metadata": {},
   "outputs": [],
   "source": [
    "police_arrest = pd.read_csv(\"police_arrest.csv\")\n",
    "filter1 = police_arrest[\"OFFENSES\"].str.contains(\"dui\", case = False, na = False)\n",
    "filter2 = police_arrest[\"OFFENSES\"].str.contains(\"assault\", case = False, na = False)\n",
    "p = police_arrest[filter1 | filter2]\n",
    "percent = (p[\"INCIDENTNEIGHBORHOOD\"].value_counts()/police_arrest[\"INCIDENTNEIGHBORHOOD\"].value_counts()) * 100\n",
    "percent.fillna(0, inplace = True)\n",
    "score = 100 - percent\n",
    "lawscored = score.sort_values()"
   ]
  }
 ],
 "metadata": {
  "kernelspec": {
   "display_name": "Python 3 (ipykernel)",
   "language": "python",
   "name": "python3"
  },
  "language_info": {
   "codemirror_mode": {
    "name": "ipython",
    "version": 3
   },
   "file_extension": ".py",
   "mimetype": "text/x-python",
   "name": "python",
   "nbconvert_exporter": "python",
   "pygments_lexer": "ipython3",
   "version": "3.8.10"
  }
 },
 "nbformat": 4,
 "nbformat_minor": 5
}
