{
 "cells": [
  {
   "cell_type": "markdown",
   "metadata": {},
   "source": [
    "# One Score to Rule Them All\n",
    "The time finally comes to assess which neighborhood might be worthy of the title of best! We decided to give each neighborhood a score out of 100 in order to simplify the process.\n",
    "\n",
    "Each member of the team decided on an equation to give the neighborhoods a score, based on their individual metric."
   ]
  },
  {
   "cell_type": "code",
   "execution_count": 1,
   "metadata": {},
   "outputs": [],
   "source": [
    "import pandas as pd\n",
    "import geopandas as gp\n",
    "import numpy as np\n",
    "%matplotlib inline\n",
    "import matplotlib.pyplot as plt"
   ]
  },
  {
   "cell_type": "code",
   "execution_count": 2,
   "metadata": {},
   "outputs": [],
   "source": [
    "#EBLL score\n",
    "nb = gp.read_file(\"neighborhoods/Neighborhoods_.shp\")\n",
    "ell = pd.read_csv(\"elevated-blood-lead-levels.csv\")\n",
    "nb.insert(0,\"tract\",nb['tractce10'].fillna(0).astype(\"int64\", errors='ignore'))\n",
    "#nb.insert(0,\"tract\",nb['tractce10'].astype(\"Int64\", errors='ignore').fillna(0))\n",
    "ell.insert(0,\"tract\",(ell[\"CensusTract\"]-42003000000))\n",
    "ellnb = nb.merge(ell, how=\"left\", on=\"tract\")\n",
    "scored = ellnb[['hood','percentEBLL15_20']].dropna().sort_values('percentEBLL15_20')\n",
    "scored.insert(2,'EBLLscore',100-ellnb['percentEBLL15_20']*10)\n",
    "EBLLscored = scored[['hood','EBLLscore']]"
   ]
  },
  {
   "cell_type": "code",
   "execution_count": 3,
   "metadata": {},
   "outputs": [],
   "source": [
    "#Education score\n",
    "school_data = pd.read_csv('school-enrollment-by-detailed-level-of-school-for-the-population-3-years-and-over.csv')#open the file to read\n",
    "percent_list = []\n",
    "neigh_list = []\n",
    "score_list = []\n",
    "\n",
    "for index, row in school_data.iterrows():# go through each row \n",
    "    percent_list.append(100 * (row[4]/row[2]))     # puts percent into percent list  \n",
    "    neigh_list.append(row[0])     # put neighborhood in\n",
    "    \n",
    "d = {'Neighborhood': neigh_list, 'Education Score of Neighborhood': percent_list}#create new data set with neighborhoods and percentages\n",
    "percent_list = pd.DataFrame(data=d)# creates a new df so we can get the right scale for the points\n",
    "\n",
    "for index, row in percent_list.iterrows():# go through each row \n",
    "    score_list.append(100 * (row[1]/percent_list[\"Education Score of Neighborhood\"].max()))# append new score scale to score_list \n",
    "\n",
    "d = {'Neighborhood': neigh_list, 'Education Score of Neighborhood': score_list}#create new data set with neighborhoods and percentages\n",
    "eduscored = pd.DataFrame(data=d)"
   ]
  },
  {
   "cell_type": "code",
   "execution_count": 4,
   "metadata": {},
   "outputs": [],
   "source": [
    "police_arrest = pd.read_csv(\"police_arrest.csv\")\n",
    "filter1 = police_arrest[\"OFFENSES\"].str.contains(\"dui\", case = False, na = False)\n",
    "filter2 = police_arrest[\"OFFENSES\"].str.contains(\"assault\", case = False, na = False)\n",
    "p = police_arrest[filter1 | filter2]\n",
    "percent = (p[\"INCIDENTNEIGHBORHOOD\"].value_counts()/police_arrest[\"INCIDENTNEIGHBORHOOD\"].value_counts()) * 100\n",
    "percent.fillna(0, inplace = True)\n",
    "score = 100 - percent\n",
    "lawscored = score.sort_values()\n",
    "ls = lawscored.to_frame().reset_index()"
   ]
  },
  {
   "cell_type": "code",
   "execution_count": 5,
   "metadata": {},
   "outputs": [
    {
     "data": {
      "text/html": [
       "<div>\n",
       "<style scoped>\n",
       "    .dataframe tbody tr th:only-of-type {\n",
       "        vertical-align: middle;\n",
       "    }\n",
       "\n",
       "    .dataframe tbody tr th {\n",
       "        vertical-align: top;\n",
       "    }\n",
       "\n",
       "    .dataframe thead th {\n",
       "        text-align: right;\n",
       "    }\n",
       "</style>\n",
       "<table border=\"1\" class=\"dataframe\">\n",
       "  <thead>\n",
       "    <tr style=\"text-align: right;\">\n",
       "      <th></th>\n",
       "      <th>hood</th>\n",
       "      <th>finalscore</th>\n",
       "    </tr>\n",
       "  </thead>\n",
       "  <tbody>\n",
       "    <tr>\n",
       "      <th>2</th>\n",
       "      <td>West Oakland</td>\n",
       "      <td>76.865913</td>\n",
       "    </tr>\n",
       "    <tr>\n",
       "      <th>6</th>\n",
       "      <td>South Side Flats</td>\n",
       "      <td>75.310536</td>\n",
       "    </tr>\n",
       "    <tr>\n",
       "      <th>13</th>\n",
       "      <td>Central Business District</td>\n",
       "      <td>75.262341</td>\n",
       "    </tr>\n",
       "    <tr>\n",
       "      <th>1</th>\n",
       "      <td>Bloomfield</td>\n",
       "      <td>74.946938</td>\n",
       "    </tr>\n",
       "    <tr>\n",
       "      <th>8</th>\n",
       "      <td>East Liberty</td>\n",
       "      <td>74.626083</td>\n",
       "    </tr>\n",
       "    <tr>\n",
       "      <th>17</th>\n",
       "      <td>Squirrel Hill North</td>\n",
       "      <td>74.345770</td>\n",
       "    </tr>\n",
       "    <tr>\n",
       "      <th>11</th>\n",
       "      <td>Terrace Village</td>\n",
       "      <td>69.727802</td>\n",
       "    </tr>\n",
       "    <tr>\n",
       "      <th>9</th>\n",
       "      <td>Stanton Heights</td>\n",
       "      <td>67.986369</td>\n",
       "    </tr>\n",
       "    <tr>\n",
       "      <th>25</th>\n",
       "      <td>Shadyside</td>\n",
       "      <td>67.771504</td>\n",
       "    </tr>\n",
       "    <tr>\n",
       "      <th>16</th>\n",
       "      <td>Squirrel Hill South</td>\n",
       "      <td>67.451310</td>\n",
       "    </tr>\n",
       "  </tbody>\n",
       "</table>\n",
       "</div>"
      ],
      "text/plain": [
       "                         hood  finalscore\n",
       "2                West Oakland   76.865913\n",
       "6            South Side Flats   75.310536\n",
       "13  Central Business District   75.262341\n",
       "1                  Bloomfield   74.946938\n",
       "8                East Liberty   74.626083\n",
       "17        Squirrel Hill North   74.345770\n",
       "11            Terrace Village   69.727802\n",
       "9             Stanton Heights   67.986369\n",
       "25                  Shadyside   67.771504\n",
       "16        Squirrel Hill South   67.451310"
      ]
     },
     "execution_count": 5,
     "metadata": {},
     "output_type": "execute_result"
    }
   ],
   "source": [
    "merged = EBLLscored.merge(eduscored, how='outer', left_on='hood', right_on='Neighborhood')\n",
    "merged = merged.merge(ls, how='outer', left_on='hood', right_on='index').fillna(0)\n",
    "merged.insert(0,'finalscore',merged['EBLLscore']*.4+merged['Education Score of Neighborhood']*.2+merged['INCIDENTNEIGHBORHOOD']*.4)\n",
    "merged[['hood','finalscore']].sort_values('finalscore',ascending=False).head(10)"
   ]
  },
  {
   "cell_type": "markdown",
   "metadata": {},
   "source": [
    "<p>Above are the top 10 safest neighborhoods to raise children based on the metrics all 3 of us used. We weighted each submetric with lead levels with 40%, Education Score with 20%, and assault and DUI cases with 40%. After calculating each weighted score, the top 10 neighborhoods we got are listed above with West Oakland in 1st and Squirrel Hill South in 10th.</p>"
   ]
  },
  {
   "cell_type": "code",
   "execution_count": null,
   "metadata": {},
   "outputs": [],
   "source": []
  }
 ],
 "metadata": {
  "kernelspec": {
   "display_name": "Python 3",
   "language": "python",
   "name": "python3"
  },
  "language_info": {
   "codemirror_mode": {
    "name": "ipython",
    "version": 3
   },
   "file_extension": ".py",
   "mimetype": "text/x-python",
   "name": "python",
   "nbconvert_exporter": "python",
   "pygments_lexer": "ipython3",
   "version": "3.8.3"
  }
 },
 "nbformat": 4,
 "nbformat_minor": 5
}
