{
 "cells": [
  {
   "cell_type": "code",
   "execution_count": 1,
   "metadata": {},
   "outputs": [
    {
     "data": {
      "text/plain": [
       "Arlington Heights          42.622951\n",
       "Hays                       43.617021\n",
       "Fairywood                  45.000000\n",
       "East Carnegie              45.454545\n",
       "Glen Hazel                 45.588235\n",
       "                             ...    \n",
       "Outside State              86.538462\n",
       "Outside City               94.208494\n",
       "Outside County             95.652174\n",
       "Central Northside          95.652174\n",
       "Troy Hill-Herrs Island    100.000000\n",
       "Name: INCIDENTNEIGHBORHOOD, Length: 98, dtype: float64"
      ]
     },
     "execution_count": 1,
     "metadata": {},
     "output_type": "execute_result"
    }
   ],
   "source": [
    "import pandas as pd\n",
    "import numpy as np\n",
    "%matplotlib inline\n",
    "import matplotlib.pyplot as plt\n",
    "police_arrest = pd.read_csv(\"police_arrest.csv\")\n",
    "filter1 = police_arrest[\"OFFENSES\"].str.contains(\"dui\", case = False, na = False)\n",
    "filter2 = police_arrest[\"OFFENSES\"].str.contains(\"assault\", case = False, na = False)\n",
    "pd = police_arrest[filter1 | filter2]\n",
    "percent = (pd[\"INCIDENTNEIGHBORHOOD\"].value_counts()/police_arrest[\"INCIDENTNEIGHBORHOOD\"].value_counts()) * 100\n",
    "percent.fillna(0, inplace = True)\n",
    "score = 100 - percent\n",
    "scored = score.sort_values()\n",
    "scored"
   ]
  },
  {
   "cell_type": "code",
   "execution_count": null,
   "metadata": {},
   "outputs": [],
   "source": []
  }
 ],
 "metadata": {
  "kernelspec": {
   "display_name": "Python 3",
   "language": "python",
   "name": "python3"
  },
  "language_info": {
   "codemirror_mode": {
    "name": "ipython",
    "version": 3
   },
   "file_extension": ".py",
   "mimetype": "text/x-python",
   "name": "python",
   "nbconvert_exporter": "python",
   "pygments_lexer": "ipython3",
   "version": "3.8.3"
  }
 },
 "nbformat": 4,
 "nbformat_minor": 4
}
